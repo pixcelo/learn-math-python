{
 "cells": [
  {
   "cell_type": "code",
   "execution_count": 1,
   "metadata": {},
   "outputs": [],
   "source": [
    "%matplotlib inline\n",
    "\n",
    "import numpy as np\n",
    "import matplotlib.pyplot as plt\n",
    "import japanize_matplotlib"
   ]
  },
  {
   "attachments": {},
   "cell_type": "markdown",
   "metadata": {},
   "source": [
    "## 三角関数\n",
    "\n",
    "![trigonometric](trigonometric.png)\n",
    "\n",
    "- sinθ = b/c\n",
    "- conθ = a/c\n",
    "- tanθ = b/a\n",
    "\n",
    "ラジアン [`rad`] θ = 円（扇形）の孤の長さ(L) ÷ 円の半径(r) . \n",
    "\n",
    "180° = π [rad]  ラジアンは180°に相当する。90°はπ/2 \n",
    "\n",
    "https://ja.wikipedia.org/wiki/%E4%B8%89%E8%A7%92%E9%96%A2%E6%95%B0"
   ]
  },
  {
   "cell_type": "markdown",
   "metadata": {},
   "source": []
  },
  {
   "cell_type": "code",
   "execution_count": null,
   "metadata": {},
   "outputs": [],
   "source": []
  },
  {
   "cell_type": "markdown",
   "metadata": {},
   "source": []
  }
 ],
 "metadata": {
  "kernelspec": {
   "display_name": "Python 3",
   "language": "python",
   "name": "python3"
  },
  "language_info": {
   "codemirror_mode": {
    "name": "ipython",
    "version": 3
   },
   "file_extension": ".py",
   "mimetype": "text/x-python",
   "name": "python",
   "nbconvert_exporter": "python",
   "pygments_lexer": "ipython3",
   "version": "3.11.1"
  },
  "orig_nbformat": 4,
  "vscode": {
   "interpreter": {
    "hash": "ad0d3ecc31bdb48673d2cac54857c241eec221b936c60b2b3c0dc41e3431a65e"
   }
  }
 },
 "nbformat": 4,
 "nbformat_minor": 2
}
