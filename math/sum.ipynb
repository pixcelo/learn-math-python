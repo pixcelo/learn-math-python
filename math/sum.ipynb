{
 "cells": [
  {
   "attachments": {},
   "cell_type": "markdown",
   "metadata": {},
   "source": [
    "## 総和\n",
    "Σ (シグマ) で表す\n",
    "\n",
    "複数の数値を全て足し合わせる\n",
    "\n",
    "1+2+3+4+5...\n",
    "\n",
    "数式にすると以下の形\n",
    "\n",
    "a1+a2+a3+...+an-1+an\n",
    "\n",
    "数学ではΣで表現する（英語でsumの「s」)\n",
    "\n",
    "$y=\\sum\\limits_{k=1}^na_k$"
   ]
  },
  {
   "cell_type": "code",
   "execution_count": 1,
   "metadata": {},
   "outputs": [
    {
     "data": {
      "text/plain": [
       "15"
      ]
     },
     "execution_count": 1,
     "metadata": {},
     "output_type": "execute_result"
    }
   ],
   "source": [
    "import numpy as np\n",
    "\n",
    "a = np.array([1,2,3,4,5])\n",
    "y = np.sum(a)\n",
    "\n",
    "y"
   ]
  },
  {
   "attachments": {},
   "cell_type": "markdown",
   "metadata": {},
   "source": [
    "## 相乗\n",
    "\n",
    "Π（パイ）で表す"
   ]
  },
  {
   "cell_type": "code",
   "execution_count": 2,
   "metadata": {},
   "outputs": [
    {
     "data": {
      "text/plain": [
       "120"
      ]
     },
     "execution_count": 2,
     "metadata": {},
     "output_type": "execute_result"
    }
   ],
   "source": [
    "y = np.prod(a)\n",
    "\n",
    "y"
   ]
  },
  {
   "cell_type": "code",
   "execution_count": null,
   "metadata": {},
   "outputs": [],
   "source": []
  }
 ],
 "metadata": {
  "kernelspec": {
   "display_name": "Python 3",
   "language": "python",
   "name": "python3"
  },
  "language_info": {
   "codemirror_mode": {
    "name": "ipython",
    "version": 3
   },
   "file_extension": ".py",
   "mimetype": "text/x-python",
   "name": "python",
   "nbconvert_exporter": "python",
   "pygments_lexer": "ipython3",
   "version": "3.11.1"
  },
  "orig_nbformat": 4,
  "vscode": {
   "interpreter": {
    "hash": "ad0d3ecc31bdb48673d2cac54857c241eec221b936c60b2b3c0dc41e3431a65e"
   }
  }
 },
 "nbformat": 4,
 "nbformat_minor": 2
}
