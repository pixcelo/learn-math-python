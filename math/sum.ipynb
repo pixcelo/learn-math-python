{
 "cells": [
  {
   "cell_type": "code",
   "execution_count": null,
   "metadata": {},
   "outputs": [],
   "source": []
  },
  {
   "attachments": {},
   "cell_type": "markdown",
   "metadata": {},
   "source": [
    "## 総和\n",
    "Σ (シグマ) で表す\n",
    "\n",
    "複数の数値を全て足し合わせる\n",
    "\n",
    "1+2+3+4+5...\n",
    "\n",
    "数式にすると以下の形\n",
    "\n",
    "a1+a2+a3+...+an-1+an\n",
    "\n",
    "![sum](sum.png)"
   ]
  },
  {
   "cell_type": "markdown",
   "metadata": {},
   "source": []
  }
 ],
 "metadata": {
  "kernelspec": {
   "display_name": "Python 3",
   "language": "python",
   "name": "python3"
  },
  "language_info": {
   "name": "python",
   "version": "3.11.1 (main, Jan 22 2023, 07:21:34) [Clang 14.0.0 (clang-1400.0.29.202)]"
  },
  "orig_nbformat": 4,
  "vscode": {
   "interpreter": {
    "hash": "ad0d3ecc31bdb48673d2cac54857c241eec221b936c60b2b3c0dc41e3431a65e"
   }
  }
 },
 "nbformat": 4,
 "nbformat_minor": 2
}
