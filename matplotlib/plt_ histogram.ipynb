{
 "cells": [
  {
   "cell_type": "code",
   "execution_count": 1,
   "metadata": {},
   "outputs": [],
   "source": [
    "%matplotlib inline\n",
    "\n",
    "import numpy as np\n",
    "import matplotlib.pyplot as plt\n",
    "import japanize_matplotlib"
   ]
  },
  {
   "cell_type": "code",
   "execution_count": 2,
   "metadata": {},
   "outputs": [],
   "source": [
    "data = np.array([0,1,2,2,2,2,3,3,4,4,5,6,6,6,7,7,7,8,8,9])\n",
    "\n",
    "# ヒストグラム (bins=柱の数)\n",
    "plt.hist(data, bins=10)\n",
    "\n",
    "plt.xlabel('階級')\n",
    "plt.ylabel('度数')\n",
    "plt.show()"
   ]
  },
  {
   "attachments": {},
   "cell_type": "markdown",
   "metadata": {},
   "source": [
    "## ヒストグラム\n",
    "\n",
    "量的データの分布の様子を見るのに用いられる (度数分布)\n",
    "\n",
    "- 横軸(X軸)の数値を「階級」と呼び、データを区切った区間を記入\n",
    "- 縦軸(Y軸)の数値を「度数」と呼び、各区間に含まれるデータの数量を記入\n",
    "\n",
    "[ヒストグラムとは](https://www.stat.go.jp/naruhodo/4_graph/shokyu/histogram.html)\n",
    "\n",
    "1. 分布の状態を見易くし、分布の状態を目で見ることができる\n",
    "2. データがどんな値を中心に、どんなバラツキを持っているかを知ることができる\n",
    "3. 分布がどのような形をしているか知ることができる"
   ]
  },
  {
   "cell_type": "markdown",
   "metadata": {},
   "source": []
  },
  {
   "cell_type": "markdown",
   "metadata": {},
   "source": []
  },
  {
   "cell_type": "markdown",
   "metadata": {},
   "source": []
  }
 ],
 "metadata": {
  "kernelspec": {
   "display_name": "Python 3",
   "language": "python",
   "name": "python3"
  },
  "language_info": {
   "codemirror_mode": {
    "name": "ipython",
    "version": 3
   },
   "file_extension": ".py",
   "mimetype": "text/x-python",
   "name": "python",
   "nbconvert_exporter": "python",
   "pygments_lexer": "ipython3",
   "version": "3.11.1"
  },
  "orig_nbformat": 4,
  "vscode": {
   "interpreter": {
    "hash": "ad0d3ecc31bdb48673d2cac54857c241eec221b936c60b2b3c0dc41e3431a65e"
   }
  }
 },
 "nbformat": 4,
 "nbformat_minor": 2
}
