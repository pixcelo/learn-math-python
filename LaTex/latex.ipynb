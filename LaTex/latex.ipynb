{
 "cells": [
  {
   "attachments": {},
   "cell_type": "markdown",
   "metadata": {},
   "source": [
    "# LaTex (ラテック、ラテフ)\n",
    "## 書き方\n",
    "`$$`で囲む\n",
    "\n",
    "$$y=2x+1$$\n",
    "\n",
    "文章に中に入れるには、$y=2x+1$ とする"
   ]
  },
  {
   "attachments": {},
   "cell_type": "markdown",
   "metadata": {},
   "source": [
    "## 添字と累乗\n",
    "- $a_1$\n",
    "- $a_{ij}$\n",
    "- $b^2$\n",
    "- $b^{ij}$\n",
    "- $c_1^2$\n",
    "\n",
    "## 多項式\n",
    "$y=x^2+2x^2+x+3$\n",
    "\n",
    "## 平方根\n",
    "$y=\\sqrt x$\n",
    "\n",
    "## 三角関数\n",
    "$y=\\sin x$\n",
    "\n",
    "## 分数\n",
    "$y=\\frac{5}{8}$\n",
    "\n",
    "## 総和（Σ シグマ）\n",
    "$y=\\sum\\limits_{k=1}^na_k$\n",
    "\n",
    "## 総乗\n",
    "$y=\\prod\\limits_{k=1}^n a_k$"
   ]
  }
 ],
 "metadata": {
  "kernelspec": {
   "display_name": "Python 3",
   "language": "python",
   "name": "python3"
  },
  "language_info": {
   "codemirror_mode": {
    "name": "ipython",
    "version": 3
   },
   "file_extension": ".py",
   "mimetype": "text/x-python",
   "name": "python",
   "nbconvert_exporter": "python",
   "pygments_lexer": "ipython3",
   "version": "3.11.1"
  },
  "orig_nbformat": 4,
  "vscode": {
   "interpreter": {
    "hash": "ad0d3ecc31bdb48673d2cac54857c241eec221b936c60b2b3c0dc41e3431a65e"
   }
  }
 },
 "nbformat": 4,
 "nbformat_minor": 2
}
